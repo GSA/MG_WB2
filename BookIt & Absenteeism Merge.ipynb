{
 "cells": [
  {
   "cell_type": "markdown",
   "metadata": {},
   "source": [
    "# Data Extraction\n",
    "This notebook is for reading in the BookIt data and Absenteeism data. It also includes calculation to assume the home seating location of employees in the BookIt dataset. "
   ]
  },
  {
   "cell_type": "markdown",
   "metadata": {},
   "source": [
    "## Imports"
   ]
  },
  {
   "cell_type": "code",
   "execution_count": 1,
   "metadata": {},
   "outputs": [],
   "source": [
    "import pandas as pd\n",
    "import numpy as np\n",
    "import glob"
   ]
  },
  {
   "cell_type": "markdown",
   "metadata": {},
   "source": [
    "## Read in BookIt & Absenteeism Data"
   ]
  },
  {
   "cell_type": "code",
   "execution_count": 2,
   "metadata": {},
   "outputs": [],
   "source": [
    "def read_multi_excel(path):\n",
    "    '''\n",
    "    Given a file path with wildcard for extension, parse all files with that extension in directory \n",
    "    into a single dataframe.\n",
    "    '''\n",
    "    \n",
    "    all_files = glob.glob(path)\n",
    "    li = []\n",
    "    \n",
    "    for filename in all_files:\n",
    "        df = pd.read_excel(filename, index_col=None, header=1)\n",
    "        li.append(df)\n",
    "        \n",
    "    df = pd.concat(li, axis=0, ignore_index=True)\n",
    "    \n",
    "    return df"
   ]
  },
  {
   "cell_type": "code",
   "execution_count": 3,
   "metadata": {},
   "outputs": [
    {
     "name": "stdout",
     "output_type": "stream",
     "text": [
      "WARNING *** file size (163712) not 512 + multiple of sector size (512)\n",
      "WARNING *** file size (139136) not 512 + multiple of sector size (512)\n"
     ]
    }
   ],
   "source": [
    "BookIt_df = read_multi_excel(\"data/bookit/*.xls\")"
   ]
  },
  {
   "cell_type": "code",
   "execution_count": 4,
   "metadata": {
    "scrolled": true
   },
   "outputs": [],
   "source": [
    "absence_df = pd.read_excel(\"data/absenteeism/OGPLeaveData.xlsx\")"
   ]
  },
  {
   "cell_type": "markdown",
   "metadata": {},
   "source": [
    "## Convert columns with timestamp values to the datetime format for calculations. "
   ]
  },
  {
   "cell_type": "code",
   "execution_count": 5,
   "metadata": {},
   "outputs": [],
   "source": [
    "def date_convert(df, columns):\n",
    "    '''\n",
    "    Given a dataframe and columns, convert all columns to the indicated datetime format.\n",
    "    '''\n",
    "    \n",
    "    for col in columns:\n",
    "        df[col]= pd.to_datetime(df[col], format ='%m/%d/%Y %I:%M %p', errors='coerce')\n",
    "    \n",
    "    return df"
   ]
  },
  {
   "cell_type": "code",
   "execution_count": 6,
   "metadata": {},
   "outputs": [],
   "source": [
    "dt_columns = ['Start Time',\n",
    "          'End Time',\n",
    "          'Active Start',\n",
    "          'Active End',\n",
    "          'Check In',\n",
    "          'Check Out',\n",
    "          'Created',\n",
    "          'Setup Time',\n",
    "          'Break Down Time',\n",
    "          'Max Cancel Time',\n",
    "          'Bumpable Time']"
   ]
  },
  {
   "cell_type": "code",
   "execution_count": 7,
   "metadata": {},
   "outputs": [],
   "source": [
    "BookIt_df = date_convert(BookIt_df, dt_columns)"
   ]
  },
  {
   "cell_type": "markdown",
   "metadata": {},
   "source": [
    "## Filter to only 1800 F Street Facility, Workspace reservation type and remove null values for Active End to reflect only completed reservations."
   ]
  },
  {
   "cell_type": "code",
   "execution_count": 8,
   "metadata": {},
   "outputs": [],
   "source": [
    "BookIt_df = BookIt_df[BookIt_df['Facility']=='1800 F Street']\n",
    "BookIt_df = BookIt_df[BookIt_df['Category']=='Workspace']\n",
    "BookIt_df = BookIt_df[BookIt_df['Active End'].notnull()]"
   ]
  },
  {
   "cell_type": "markdown",
   "metadata": {},
   "source": [
    "## Calculate the number of business days of the reservation. For values with 0 days but any increment of time greater than 0, reflect a reservation of 1 day. "
   ]
  },
  {
   "cell_type": "code",
   "execution_count": 9,
   "metadata": {},
   "outputs": [],
   "source": [
    "def days_calc(df, calc_col, start, end):\n",
    "    '''\n",
    "    Given a dataframe, the new column for the calculated values, start column and end column, calculate \n",
    "    the number business days between the start column and end column, writing that value to calc_col.\n",
    "    For values less than 1 but greater than 0, use the value 1 to capture partial days as a full day.\n",
    "    '''\n",
    "    df[calc_col] = df.apply(lambda x:\n",
    "                                                1 if np.busday_count(x[start].date(), x[end].date()) == 0\n",
    "                                                and x[start] < x[end]\n",
    "                                                else np.busday_count(x[start].date(), x[end].date()), axis= 1)\n",
    "    \n",
    "    return df"
   ]
  },
  {
   "cell_type": "code",
   "execution_count": 10,
   "metadata": {},
   "outputs": [],
   "source": [
    "BookIt_df = days_calc(BookIt_df,'Reservation Days','Active Start','Active End')"
   ]
  },
  {
   "cell_type": "markdown",
   "metadata": {},
   "source": [
    "## Format For User column to merge with Absenteeism Data. "
   ]
  },
  {
   "cell_type": "code",
   "execution_count": 11,
   "metadata": {},
   "outputs": [],
   "source": [
    "BookIt_df['For User'] = BookIt_df['For User'].str.split(', ').str[::-1].str.join(' ').str.strip()"
   ]
  },
  {
   "cell_type": "markdown",
   "metadata": {},
   "source": [
    "## Capture the aggregated amount of days booked per Floor/Wing per employee."
   ]
  },
  {
   "cell_type": "code",
   "execution_count": 12,
   "metadata": {},
   "outputs": [],
   "source": [
    "summary_df = BookIt_df[['For User', 'Facility Floor','Reservation Days']].groupby(['For User','Facility Floor'], \n",
    "                                                                     sort=False)['Reservation Days'].max().reset_index(name='Reservation Days')"
   ]
  },
  {
   "cell_type": "markdown",
   "metadata": {},
   "source": [
    "## Capture the most booked Floor/Wing for each employee."
   ]
  },
  {
   "cell_type": "code",
   "execution_count": 13,
   "metadata": {},
   "outputs": [],
   "source": [
    "summary_df = summary_df.groupby('For User').apply(lambda x: x['Facility Floor'][x['Reservation Days'].idxmax()]).reset_index(name='Reservation Days')"
   ]
  },
  {
   "cell_type": "markdown",
   "metadata": {},
   "source": [
    "## Merge the two datsets so that the Absenteeism data is supplemented with most requently booked Floor/Wing for users if it is User is within BookIt data."
   ]
  },
  {
   "cell_type": "code",
   "execution_count": 14,
   "metadata": {
    "scrolled": true
   },
   "outputs": [],
   "source": [
    "merged_df = pd.merge(summary_df, absence_df, left_on=['For User'], right_on=['Name'], how='left')"
   ]
  }
 ],
 "metadata": {
  "anaconda-cloud": {},
  "kernelspec": {
   "display_name": "wb2",
   "language": "python",
   "name": "wb2"
  },
  "language_info": {
   "codemirror_mode": {
    "name": "ipython",
    "version": 3
   },
   "file_extension": ".py",
   "mimetype": "text/x-python",
   "name": "python",
   "nbconvert_exporter": "python",
   "pygments_lexer": "ipython3",
   "version": "3.7.2"
  }
 },
 "nbformat": 4,
 "nbformat_minor": 2
}
